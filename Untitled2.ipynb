{
  "nbformat": 4,
  "nbformat_minor": 0,
  "metadata": {
    "colab": {
      "provenance": []
    },
    "kernelspec": {
      "name": "python3",
      "display_name": "Python 3"
    },
    "language_info": {
      "name": "python"
    }
  },
  "cells": [
    {
      "cell_type": "code",
      "execution_count": 2,
      "metadata": {
        "colab": {
          "base_uri": "https://localhost:8080/"
        },
        "id": "hmrIM69x9j-o",
        "outputId": "83d6c9b9-4a1f-42cc-e26c-495e15994a77"
      },
      "outputs": [
        {
          "output_type": "stream",
          "name": "stdout",
          "text": [
            "Reshaped array with max in each row replaced by 0:\n",
            "[[ 2  0 18  4 16]\n",
            " [ 1 14 10 12  0]\n",
            " [ 8 17  0 13  2]]\n",
            "4x3 array:\n",
            "[[0 0 0]\n",
            " [0 0 0]\n",
            " [0 0 0]\n",
            " [0 0 0]]\n",
            "Shape of 4x3 array: (4, 3)\n",
            "Type of 4x3 array: <class 'numpy.ndarray'>\n",
            "Data type of 4x3 array: int32\n"
          ]
        }
      ],
      "source": [
        "import numpy as np\n",
        "\n",
        "#Create random vector of size 15 with integers in the range 1-20\n",
        "vector = np.random.randint(1, 21, size=15)\n",
        "\n",
        "#Reshape the vector to 3x5\n",
        "reshaped_array = vector.reshape(3, 5)\n",
        "\n",
        "#Print array shape\n",
        "array_shape = reshaped_array.shape\n",
        "\n",
        "#Replace the max in each row by 0\n",
        "for row in reshaped_array:\n",
        "    row[np.argmax(row)] = 0\n",
        "\n",
        "#Create a two-dimensional array of size 4x3 (composed of 4-byte integer elements)\n",
        "array_4x3 = np.zeros((4, 3), dtype=np.int32)\n",
        "\n",
        "#Print the shape, type, and data type of the 4x3 array\n",
        "array_4x3_shape = array_4x3.shape\n",
        "array_4x3_type = type(array_4x3)\n",
        "array_4x3_dtype = array_4x3.dtype\n",
        "\n",
        "print(\"Reshaped array with max in each row replaced by 0:\")\n",
        "print(reshaped_array)\n",
        "print(\"4x3 array:\")\n",
        "print(array_4x3)\n",
        "print(\"Shape of 4x3 array:\", array_4x3_shape)\n",
        "print(\"Type of 4x3 array:\", array_4x3_type)\n",
        "print(\"Data type of 4x3 array:\", array_4x3_dtype)"
      ]
    },
    {
      "cell_type": "code",
      "source": [
        "import numpy as np\n",
        "\n",
        "#Given square array\n",
        "array = np.array([[3 , -2],\n",
        "                  [1 , 0]])\n",
        "\n",
        "#Computing eigenvalues and eigenvectors\n",
        "eigenvalues, eigenvectors = np.linalg.eig(array)\n",
        "\n",
        "print(\"Eigenvalues:\")\n",
        "print(eigenvalues)\n",
        "\n",
        "print(\"Eigenvectors:\")\n",
        "print(eigenvectors)"
      ],
      "metadata": {
        "colab": {
          "base_uri": "https://localhost:8080/"
        },
        "id": "CmNtWnVt-0-q",
        "outputId": "181c579c-0c8f-4c43-a3ac-4d926013d4b7"
      },
      "execution_count": 8,
      "outputs": [
        {
          "output_type": "stream",
          "name": "stdout",
          "text": [
            "Eigenvalues:\n",
            "[2. 1.]\n",
            "Eigenvectors:\n",
            "[[0.89442719 0.70710678]\n",
            " [0.4472136  0.70710678]]\n"
          ]
        }
      ]
    },
    {
      "cell_type": "code",
      "source": [
        "#Import numpy library\n",
        "import numpy as np\n",
        "\n",
        "#Define the given array (matrix)\n",
        "array = np.array([[0 , 1 , 2],\n",
        "                  [3 , 4 , 5]])\n",
        "\n",
        "#Extract the diagonal elements using numpy's diag function\n",
        "diagonal_elements = np.diag(array)\n",
        "\n",
        "#Compute the sum of the diagonal elements\n",
        "sum_of_diagonal_elements = np.sum(diagonal_elements)\n",
        "\n",
        "#Print the sum of the diagonal elements\n",
        "print(\"Sum of diagonal elements:\")\n",
        "print(sum_of_diagonal_elements)"
      ],
      "metadata": {
        "colab": {
          "base_uri": "https://localhost:8080/"
        },
        "id": "K_CS2Gq6_1tF",
        "outputId": "c689b664-301c-4095-81b4-ff5e47e11dae"
      },
      "execution_count": 7,
      "outputs": [
        {
          "output_type": "stream",
          "name": "stdout",
          "text": [
            "Sum of diagonal elements:\n",
            "4\n"
          ]
        }
      ]
    },
    {
      "cell_type": "code",
      "source": [
        "import numpy as np\n",
        "\n",
        "#Original array\n",
        "original_array = np.array([[1, 2],\n",
        "                           [3, 4],\n",
        "                           [5, 6]])\n",
        "\n",
        "#Reshape to 2x3\n",
        "reshaped_array = original_array.reshape(2, 3)\n",
        "\n",
        "print(\"Original array:\")\n",
        "print(original_array)\n",
        "print(\"\\nReshaped array:\")\n",
        "print(reshaped_array)"
      ],
      "metadata": {
        "colab": {
          "base_uri": "https://localhost:8080/"
        },
        "id": "_58WwcoQBlkY",
        "outputId": "55b6440a-f76a-4e62-f28e-748373266b5f"
      },
      "execution_count": 9,
      "outputs": [
        {
          "output_type": "stream",
          "name": "stdout",
          "text": [
            "Original array:\n",
            "[[1 2]\n",
            " [3 4]\n",
            " [5 6]]\n",
            "\n",
            "Reshaped array:\n",
            "[[1 2 3]\n",
            " [4 5 6]]\n"
          ]
        }
      ]
    }
  ]
}